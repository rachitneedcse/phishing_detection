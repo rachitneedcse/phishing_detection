{
 "cells": [
  {
   "cell_type": "code",
   "execution_count": 2,
   "id": "0c9e87df",
   "metadata": {},
   "outputs": [
    {
     "name": "stderr",
     "output_type": "stream",
     "text": [
      "2025-10-31 12:54:36.816 WARNING streamlit.runtime.scriptrunner_utils.script_run_context: Thread 'MainThread': missing ScriptRunContext! This warning can be ignored when running in bare mode.\n",
      "2025-10-31 12:54:36.992 \n",
      "  \u001b[33m\u001b[1mWarning:\u001b[0m to view this Streamlit app on a browser, run it with the following\n",
      "  command:\n",
      "\n",
      "    streamlit run c:\\Users\\rachi\\ml\\tf_latest\\lib\\site-packages\\ipykernel_launcher.py [ARGUMENTS]\n",
      "2025-10-31 12:54:36.992 Thread 'MainThread': missing ScriptRunContext! This warning can be ignored when running in bare mode.\n",
      "2025-10-31 12:54:36.992 Thread 'MainThread': missing ScriptRunContext! This warning can be ignored when running in bare mode.\n",
      "2025-10-31 12:54:36.992 Thread 'MainThread': missing ScriptRunContext! This warning can be ignored when running in bare mode.\n",
      "2025-10-31 12:54:36.994 Thread 'MainThread': missing ScriptRunContext! This warning can be ignored when running in bare mode.\n",
      "2025-10-31 12:54:36.994 Thread 'MainThread': missing ScriptRunContext! This warning can be ignored when running in bare mode.\n",
      "2025-10-31 12:54:36.994 Thread 'MainThread': missing ScriptRunContext! This warning can be ignored when running in bare mode.\n",
      "2025-10-31 12:54:36.994 Thread 'MainThread': missing ScriptRunContext! This warning can be ignored when running in bare mode.\n",
      "2025-10-31 12:54:36.994 Thread 'MainThread': missing ScriptRunContext! This warning can be ignored when running in bare mode.\n",
      "2025-10-31 12:54:36.994 Thread 'MainThread': missing ScriptRunContext! This warning can be ignored when running in bare mode.\n",
      "2025-10-31 12:54:36.997 Session state does not function when running a script without `streamlit run`\n",
      "2025-10-31 12:54:36.998 Thread 'MainThread': missing ScriptRunContext! This warning can be ignored when running in bare mode.\n",
      "2025-10-31 12:54:36.999 Thread 'MainThread': missing ScriptRunContext! This warning can be ignored when running in bare mode.\n",
      "2025-10-31 12:54:37.000 Thread 'MainThread': missing ScriptRunContext! This warning can be ignored when running in bare mode.\n",
      "2025-10-31 12:54:37.000 Thread 'MainThread': missing ScriptRunContext! This warning can be ignored when running in bare mode.\n",
      "2025-10-31 12:54:37.000 Thread 'MainThread': missing ScriptRunContext! This warning can be ignored when running in bare mode.\n",
      "2025-10-31 12:54:37.002 Thread 'MainThread': missing ScriptRunContext! This warning can be ignored when running in bare mode.\n",
      "2025-10-31 12:54:37.002 Thread 'MainThread': missing ScriptRunContext! This warning can be ignored when running in bare mode.\n",
      "2025-10-31 12:54:37.002 Thread 'MainThread': missing ScriptRunContext! This warning can be ignored when running in bare mode.\n",
      "2025-10-31 12:54:37.002 Thread 'MainThread': missing ScriptRunContext! This warning can be ignored when running in bare mode.\n"
     ]
    }
   ],
   "source": [
    "import streamlit as st\n",
    "import pandas as pd\n",
    "import joblib\n",
    "import tensorflow as tf\n",
    "\n",
    "# Load saved ML model and preprocessing objects\n",
    "ml_model = joblib.load('model\\email_spam_nb.pkl')\n",
    "\n",
    "\n",
    "st.title(\"Phishing Email Detection\")\n",
    "\n",
    "st.markdown(\"Enter the email text below to classify it as **Phishing** or **Safe**\")\n",
    "\n",
    "email_text = st.text_area(\"Email Text\")\n",
    "\n",
    "if st.button(\"Predict\"):\n",
    "    if email_text.strip():\n",
    "        \n",
    "        ml_features = email_text  # your feature extraction logic\n",
    "\n",
    "       \n",
    "        ml_pred = ml_model.predict(ml_features)\n",
    "        \n",
    "\n",
    "\n",
    "        \n",
    "        st.write(f\"Machine Learning Model Prediction: **{ml_pred}**\")\n",
    "\n",
    "    else:\n",
    "        st.error(\"Please enter the email text to classify.\")\n"
   ]
  },
  {
   "cell_type": "code",
   "execution_count": null,
   "id": "6c9e227a",
   "metadata": {},
   "outputs": [],
   "source": []
  }
 ],
 "metadata": {
  "kernelspec": {
   "display_name": "tf_latest",
   "language": "python",
   "name": "python3"
  },
  "language_info": {
   "codemirror_mode": {
    "name": "ipython",
    "version": 3
   },
   "file_extension": ".py",
   "mimetype": "text/x-python",
   "name": "python",
   "nbconvert_exporter": "python",
   "pygments_lexer": "ipython3",
   "version": "3.10.11"
  }
 },
 "nbformat": 4,
 "nbformat_minor": 5
}
